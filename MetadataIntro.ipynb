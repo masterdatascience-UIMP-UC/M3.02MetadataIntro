{
 "cells": [
  {
   "cell_type": "markdown",
   "metadata": {},
   "source": [
    "# Gestión y uso de Metadatos"
   ]
  },
  {
   "cell_type": "markdown",
   "metadata": {},
   "source": [
    "En este Notebook descubriremos cómo pueden explotarse metadatos publicados en formatos basados en etiquetas, como XML."
   ]
  },
  {
   "cell_type": "markdown",
   "metadata": {},
   "source": [
    "<img src=\"https://www.republica.com/wp-content/uploads/2017/04/grito.jpg \" width=\"250\">"
   ]
  },
  {
   "cell_type": "markdown",
   "metadata": {},
   "source": [
    "Vamos a empezar por describir un par de objetos, empezando por un cuadro, \"El grito\", de  Edvard Munch.\n",
    "\n",
    "* Title: \n",
    "* Creator: \n",
    "* Subject:  \n",
    "* Description: \n",
    "* Publisher: \n",
    "* Contributor:\n",
    "* Date: \n",
    "* Type: \n",
    "* Format: \n",
    "* Identifier: \n",
    "* Source: \n",
    "* Language:\n",
    "* Relation:\n",
    "* Coverage:  \n",
    "* Rights:"
   ]
  },
  {
   "cell_type": "markdown",
   "metadata": {},
   "source": [
    "Con Dublin Core también podemos describir datasets científicos. Vamos a probar con:\n",
    "\n",
    "https://zenodo.org/record/583733#.WfL3V3V96-o\n",
    "\n",
    "<div class=\"alert alert-warning\" role=\"alert\" style=\"margin: 10px\">\n",
    "<p>**Consejo**</p>\n",
    "\n",
    "<p>En el propio repositorio puedes encontrar metadatos</p>\n",
    "</div>\n",
    "\n",
    "* Title: Snow dataset for Mount-Lebanon (2011-2016)\n",
    "* Creator: Fayad, Abbas\n",
    "* Subject:  Snow observations; Snow water equivalent\n",
    "* Description: We present a comprehensive snow dataset for Mont-Lebanon. The dataset includes continuous meteorological observations from three high elevation automatic weather stations (AWS), snowpack field measurements collected at 30 different snow courses (elevation range 1300-2900 m a.s.l.), and post-processed MODIS snow products.  Meteorological and snow observations are presented for the snow seasons (November-June) between 2011 and 2016 for Mzar (MZA, 2294 m a.s.l.), 2014-2016 for the Cedars (CED, 2834 m a.s.l.), and 2015-2016 for Laqlouq (LAQ, 1830 m a.s.l.). Meteorological and snow data includes snow depth, temperature, relative humidity, incoming and reflected solar radiation, wind speed and direction, and atmospheric pressure measured at 30-min interval. Snow depth, snow density, and snow water equivalent were measured at the 30 different snow courses during snow season 2015 and 2016 with an average revisit time of 11.4 days. Post-processed daily MODIS snow cover area (SCA) and snow cover duration (SCD) products are presented for the three snow dominated basins (Abou Ali, Ibrahim, and El Kelb) and cover the time period from 01 November 2011 to 31 June 2016.\n",
    "* Publisher: Zenodo\n",
    "* Contributor:\n",
    "* Date: 2017-05-28\n",
    "* Type: publication-article\n",
    "* Format: CSV\n",
    "* Identifier: 10.5281/zenodo.583733\n",
    "* Source: \n",
    "* Language:\n",
    "* Relation: \n",
    "* Coverage:  \n",
    "* Rights: https://creativecommons.org/licenses/by/4.0/"
   ]
  },
  {
   "cell_type": "markdown",
   "metadata": {},
   "source": [
    "A partir de las descripciones, podemos crear documentos XML que sean interpretables por máquinas (entendiendo máquinas como scripts, software, etc). \n",
    "\n",
    "El grito:\n",
    "  \n",
    "  ```XML\n",
    " <dc:contributor> </dc:contributor>\n",
    "  <dc:coverage> </dc:coverage>\n",
    "  <dc:creator> </dc:creator>\n",
    "  <dc:date> </dc:date>\n",
    "  <dc:description> </dc:description>\n",
    "  <dc:format>  </dc:format>\n",
    "  <dc:identifier> </dc:identifier>\n",
    "  <dc:language> </dc:language>\n",
    "  <dc:publisher> </dc:publisher>\n",
    "  <dc:relation> </dc:relation>\n",
    "  <dc:rights> </dc:rights>\n",
    "  <dc:source> </dc:source>\n",
    "  <dc:title> </dc:title>\n",
    "  <dc:type> </dc:type>\n",
    "```\n",
    "\n",
    "Dataset:\n",
    "  ```XML\n",
    " <dc:contributor> </dc:contributor>\n",
    "  <dc:coverage> </dc:coverage>\n",
    "  <dc:creator> </dc:creator>\n",
    "  <dc:date>2017-05-28 </dc:date>\n",
    "  <dc:description> </dc:description>\n",
    "  <dc:format>  </dc:format>\n",
    "  <dc:identifier>10.5281/zenodo.583733</dc:identifier>\n",
    "  <dc:language> </dc:language>\n",
    "  <dc:publisher>Zenodo</dc:publisher>\n",
    "  <dc:relation> </dc:relation>\n",
    "  <dc:rights> </dc:rights>\n",
    "  <dc:source> </dc:source>\n",
    "  <dc:title>Snow dataset for Mount-Lebanon (2011-2016)</dc:title>\n",
    "  <dc:type>publication-article</dc:type>\n",
    "```"
   ]
  },
  {
   "cell_type": "markdown",
   "metadata": {},
   "source": [
    "Ahora vamos a ver cómo podemos manejar estos datos en Python. Para ello, utilizaremos la librería xml.\n",
    "\n",
    "PAra crear un documento XML bien formado, es necesario definir dónde está descrito el prefijo Dublin Core o \"dc:\". Para ello, añadimos antes de los datos la siguiente cabecera:\n",
    "\n",
    "```XML\n",
    "<?xml version=\"1.0\" encoding=\"UTF-8\" standalone=\"no\"?><?xml-stylesheet type=\"text/xsl\" href=\"/webservices/catalog/xsl/searchRetrieveResponse.xsl\"?>\n",
    "<searchRetrieveResponse xmlns:oclcterms=\"http://purl.org/oclc/terms/\" xmlns:dc=\"http://purl.org/dc/elements/1.1/\" xmlns:diag=\"http://www.loc.gov/zing/srw/diagnostic/\" xmlns:xsi=\"http://www.w3.org/2001/XMLSchema-instance\">\n",
    "```\n",
    "\n",
    "Sin olvidar añadir al final:\n",
    "\n",
    "```XML\n",
    "</searchRetrieveResponse>\n",
    "```"
   ]
  },
  {
   "cell_type": "code",
   "execution_count": 3,
   "metadata": {},
   "outputs": [
    {
     "data": {
      "text/plain": [
       "<Element 'searchRetrieveResponse' at 0x7f54a2f26318>"
      ]
     },
     "execution_count": 3,
     "metadata": {},
     "output_type": "execute_result"
    }
   ],
   "source": [
    "import xml.etree.ElementTree as ET\n",
    "dc_xml = '''<?xml version=\"1.0\" encoding=\"UTF-8\" standalone=\"no\"?><?xml-stylesheet type=\"text/xsl\" href=\"/webservices/catalog/xsl/searchRetrieveResponse.xsl\"?>\n",
    "<searchRetrieveResponse xmlns:oclcterms=\"http://purl.org/oclc/terms/\" xmlns:dc=\"http://purl.org/dc/elements/1.1/\" xmlns:diag=\"http://www.loc.gov/zing/srw/diagnostic/\" xmlns:xsi=\"http://www.w3.org/2001/XMLSchema-instance\">\n",
    "\n",
    "\n",
    "    <dc:contributor>asdsadsad</dc:contributor>\n",
    "    <dc:coverage>dfsd</dc:coverage>\n",
    "    <dc:creator>sadsa</dc:creator>\n",
    "    <dc:date>sadas</dc:date>\n",
    "    <dc:description>sadsa</dc:description>\n",
    "    <dc:format>sadasd</dc:format>\n",
    "    <dc:identifier>sadsad</dc:identifier>\n",
    "    <dc:language>asdasd</dc:language>\n",
    "    <dc:publisher>wqewq</dc:publisher>\n",
    "    <dc:relation >wqeqw</dc:relation>\n",
    "    <dc:rights>ffefe</dc:rights>\n",
    "    <dc:source>vfvf</dc:source>\n",
    "    <dc:title>wqewqe</dc:title>\n",
    "    <dc:type>ewfrb</dc:type>\n",
    "\n",
    "\n",
    "\n",
    "</searchRetrieveResponse>'''\n",
    "\n",
    "tree = ET.fromstring(dc_xml)\n",
    "tree"
   ]
  },
  {
   "cell_type": "markdown",
   "metadata": {},
   "source": [
    "Si queremos recorrer los elementos del XML que hemos formado, podemos utilizar un bucle, teniendo en cuenta que la información que nos interesa la tenemos en 'searchRetrieveResponse':"
   ]
  },
  {
   "cell_type": "code",
   "execution_count": 4,
   "metadata": {},
   "outputs": [
    {
     "name": "stdout",
     "output_type": "stream",
     "text": [
      "{http://purl.org/dc/elements/1.1/}contributor asdsadsad\n",
      "{http://purl.org/dc/elements/1.1/}coverage dfsd\n",
      "{http://purl.org/dc/elements/1.1/}creator sadsa\n",
      "{http://purl.org/dc/elements/1.1/}date sadas\n",
      "{http://purl.org/dc/elements/1.1/}description sadsa\n",
      "{http://purl.org/dc/elements/1.1/}format sadasd\n",
      "{http://purl.org/dc/elements/1.1/}identifier sadsad\n",
      "{http://purl.org/dc/elements/1.1/}language asdasd\n",
      "{http://purl.org/dc/elements/1.1/}publisher wqewq\n",
      "{http://purl.org/dc/elements/1.1/}relation wqeqw\n",
      "{http://purl.org/dc/elements/1.1/}rights ffefe\n",
      "{http://purl.org/dc/elements/1.1/}source vfvf\n",
      "{http://purl.org/dc/elements/1.1/}title wqewqe\n",
      "{http://purl.org/dc/elements/1.1/}type ewfrb\n"
     ]
    }
   ],
   "source": [
    "for table in tree.getiterator('searchRetrieveResponse'):\n",
    "    for child in table:\n",
    "        print(child.tag, child.text)"
   ]
  },
  {
   "cell_type": "markdown",
   "metadata": {},
   "source": [
    "Observa que, al utilizar el prefijo 'dc:' e indicarle que está descrito en la URL 'http://purl.org/dc/elements/1.1/', la eqtiqueta o \"tag\" aparece como, por ejemplo {URL}contributor.\n",
    "\n",
    "Prueba a mostrar los metadatos que has creado a partir del cuadro y del dataset:"
   ]
  },
  {
   "cell_type": "code",
   "execution_count": 5,
   "metadata": {},
   "outputs": [
    {
     "name": "stdout",
     "output_type": "stream",
     "text": [
      "asdsadsad\n",
      "dfsd\n",
      "sadsa\n",
      "sadas\n",
      "sadsa\n",
      "sadasd\n",
      "sadsad\n",
      "asdasd\n",
      "wqewq\n",
      "wqeqw\n",
      "ffefe\n",
      "vfvf\n",
      "wqewqe\n",
      "ewfrb\n"
     ]
    }
   ],
   "source": [
    "for table in tree.getiterator('searchRetrieveResponse'):\n",
    "    for child in table:\n",
    "        print(child.text)"
   ]
  },
  {
   "cell_type": "markdown",
   "metadata": {},
   "source": [
    "Utilizando findall() sobre el albor (tree), podemos encontrar todos los elementos con una etiqueta determinada."
   ]
  },
  {
   "cell_type": "code",
   "execution_count": 6,
   "metadata": {},
   "outputs": [
    {
     "name": "stdout",
     "output_type": "stream",
     "text": [
      "[<Element '{http://purl.org/dc/elements/1.1/}relation' at 0x7f54a2c7de08>]\n"
     ]
    }
   ],
   "source": [
    "relation = tree.findall('{http://purl.org/dc/elements/1.1/}relation')\n",
    "print(relation)"
   ]
  },
  {
   "cell_type": "markdown",
   "metadata": {},
   "source": [
    "Ten en cuenta que lo que encontramos es, en realidad, una parte del XML, por lo que hay que iterarlo como antes:"
   ]
  },
  {
   "cell_type": "code",
   "execution_count": 7,
   "metadata": {},
   "outputs": [
    {
     "name": "stdout",
     "output_type": "stream",
     "text": [
      "{http://purl.org/dc/elements/1.1/}relation wqeqw\n"
     ]
    }
   ],
   "source": [
    "for child in relation:\n",
    "    print(child.tag, child.text)"
   ]
  },
  {
   "cell_type": "markdown",
   "metadata": {},
   "source": [
    "XML utiliza prefijos para no necesitar referenciar a la URL de un tipo cada vez, lo podemos ver en la cabecera:\n",
    "\n",
    "```XML\n",
    "<?xml version=\"1.0\" encoding=\"UTF-8\" standalone=\"no\"?><?xml-stylesheet type=\"text/xsl\" href=\"/webservices/catalog/xsl/searchRetrieveResponse.xsl\"?>\n",
    "<searchRetrieveResponse xmlns:oclcterms=\"http://purl.org/oclc/terms/\" xmlns:dc=\"http://purl.org/dc/elements/1.1/\" xmlns:diag=\"http://www.loc.gov/zing/srw/diagnostic/\" xmlns:xsi=\"http://www.w3.org/2001/XMLSchema-instance\">'''\n",
    "```\n",
    "\n",
    "Por ejemplo, cada vez que queremos utilizar un tipo de Dublin Core, utilizamos el prefijo dc: que equivale a llamar a la definición:\n",
    "\n",
    "xmlns:dc=\"http://purl.org/dc/elements/1.1/\"\n",
    "\n",
    "Sin embargo, para utilizar ElementTree en Python, tenemos que utilizar la URL completa. Esto puede resultar un poco engorroso, así que podemos definir el namespace para utilizar también el prefijo:"
   ]
  },
  {
   "cell_type": "code",
   "execution_count": 16,
   "metadata": {},
   "outputs": [
    {
     "data": {
      "text/plain": [
       "'ffefe'"
      ]
     },
     "execution_count": 16,
     "metadata": {},
     "output_type": "execute_result"
    }
   ],
   "source": [
    "namespaces = {'dc': 'http://purl.org/dc/elements/1.1/'} # add more as needed\n",
    "\n",
    "tree.find('dc:rights',namespaces).text"
   ]
  },
  {
   "cell_type": "markdown",
   "metadata": {},
   "source": [
    "Los documentos XML, aparte de las etiquetas y los valores, pueden contener atributos. Dado el siguiente ejemplo, vamos a ver cómo obtener la lista y los valores de los atributos"
   ]
  },
  {
   "cell_type": "code",
   "execution_count": 17,
   "metadata": {},
   "outputs": [],
   "source": [
    "dc_xml = '''<?xml version=\"1.0\" encoding=\"UTF-8\" standalone=\"no\"?><?xml-stylesheet type=\"text/xsl\" href=\"/webservices/catalog/xsl/searchRetrieveResponse.xsl\"?>\n",
    "<searchRetrieveResponse xmlns:oclcterms=\"http://purl.org/oclc/terms/\" xmlns:dc=\"http://purl.org/dc/elements/1.1/\" xmlns:diag=\"http://www.loc.gov/zing/srw/diagnostic/\" xmlns:xsi=\"http://www.w3.org/2001/XMLSchema-instance\">\n",
    "<dc:contributor>asdsadsad</dc:contributor>\n",
    "<dc:coverage>dfsd</dc:coverage>\n",
    "<dc:creator>sadsa</dc:creator>\n",
    "<dc:date>sadas</dc:date>\n",
    "<dc:description atributo1=\"valor1\" atributo2=\"valor2\">sadsa</dc:description>\n",
    "<dc:format>sadasd</dc:format>\n",
    "<dc:identifier>sadsad</dc:identifier>\n",
    "<dc:language>asdasd</dc:language>\n",
    "<dc:publisher>wqewq</dc:publisher>\n",
    "<dc:relation >wqeqw</dc:relation>\n",
    "<dc:rights>ffefe</dc:rights>\n",
    "<dc:source>vfvf</dc:source>\n",
    "<dc:title>wqewqe</dc:title>\n",
    "<dc:type>ewfrb</dc:type>\n",
    "</searchRetrieveResponse>'''\n",
    "\n",
    "tree2 = ET.fromstring(dc_xml)"
   ]
  },
  {
   "cell_type": "code",
   "execution_count": 18,
   "metadata": {},
   "outputs": [
    {
     "data": {
      "text/plain": [
       "{'atributo1': 'valor1', 'atributo2': 'valor2'}"
      ]
     },
     "execution_count": 18,
     "metadata": {},
     "output_type": "execute_result"
    }
   ],
   "source": [
    "tree2.find('dc:description',namespaces).attrib"
   ]
  },
  {
   "cell_type": "code",
   "execution_count": 19,
   "metadata": {},
   "outputs": [
    {
     "name": "stdout",
     "output_type": "stream",
     "text": [
      "valor1\n",
      "valor2\n"
     ]
    }
   ],
   "source": [
    "print(tree2.find('dc:description',namespaces).attrib['atributo1'])\n",
    "print(tree2.find('dc:description',namespaces).attrib['atributo2'])\n"
   ]
  },
  {
   "cell_type": "markdown",
   "metadata": {},
   "source": [
    "Vamos a analizar un documento XML más complejo, empezando por descargarlo:"
   ]
  },
  {
   "cell_type": "code",
   "execution_count": 20,
   "metadata": {},
   "outputs": [],
   "source": [
    "import requests\n",
    "\n",
    "response = requests.get('https://gist.githubusercontent.com/vivien/580729/raw/651d1b216357c0d7d9fc47075071fb482e11fb36/dublincore-example.xml')\n",
    "if response.status_code == 200:\n",
    "    with open(\"./dublincore-example.xml\", 'wb') as f:\n",
    "        f.write(response.content)"
   ]
  },
  {
   "cell_type": "code",
   "execution_count": 21,
   "metadata": {},
   "outputs": [
    {
     "name": "stdout",
     "output_type": "stream",
     "text": [
      "dublincore-example.xml  MetadataIntro.ipynb\r\n"
     ]
    }
   ],
   "source": [
    "ls"
   ]
  },
  {
   "cell_type": "markdown",
   "metadata": {},
   "source": [
    "Y lo cargamos en python:"
   ]
  },
  {
   "cell_type": "code",
   "execution_count": 20,
   "metadata": {},
   "outputs": [
    {
     "name": "stdout",
     "output_type": "stream",
     "text": [
      "{http://www.loc.gov/zing/srw/}version 1.1\n",
      "{http://www.loc.gov/zing/srw/}numberOfRecords 33587\n",
      "{http://www.loc.gov/zing/srw/}records \n",
      "\n",
      "{http://www.loc.gov/zing/srw/}nextRecordPosition 11\n",
      "{http://www.loc.gov/zing/srw/}resultSetIdleTime None\n",
      "{http://www.loc.gov/zing/srw/}echoedSearchRetrieveRequest \n",
      "\n"
     ]
    }
   ],
   "source": [
    "tree = ET.parse('dublincore-example.xml')\n",
    "namespaces = {'dc': 'http://purl.org/dc/elements/1.1/'} # add more as needed\n",
    "for table in tree.getiterator('{http://www.loc.gov/zing/srw/}searchRetrieveResponse'):\n",
    "    for child in table:\n",
    "        print(child.tag, child.text)"
   ]
  },
  {
   "cell_type": "code",
   "execution_count": 32,
   "metadata": {},
   "outputs": [
    {
     "name": "stdout",
     "output_type": "stream",
     "text": [
      "[<Element '{http://www.loc.gov/zing/srw/}records' at 0x7f54a14da368>]\n"
     ]
    }
   ],
   "source": [
    "all_records = tree.findall('{http://www.loc.gov/zing/srw/}records')\n",
    "print(all_records)"
   ]
  },
  {
   "cell_type": "code",
   "execution_count": 24,
   "metadata": {},
   "outputs": [
    {
     "name": "stdout",
     "output_type": "stream",
     "text": [
      "{http://www.loc.gov/zing/srw/}recordSchema info:srw/schema/1/dc\n",
      "{http://www.loc.gov/zing/srw/}recordPacking xml\n",
      "{http://www.loc.gov/zing/srw/}recordData \n",
      "\n",
      "{http://www.loc.gov/zing/srw/}recordSchema info:srw/schema/1/dc\n",
      "{http://www.loc.gov/zing/srw/}recordPacking xml\n",
      "{http://www.loc.gov/zing/srw/}recordData \n",
      "\n",
      "{http://www.loc.gov/zing/srw/}recordSchema info:srw/schema/1/dc\n",
      "{http://www.loc.gov/zing/srw/}recordPacking xml\n",
      "{http://www.loc.gov/zing/srw/}recordData \n",
      "\n",
      "{http://www.loc.gov/zing/srw/}recordSchema info:srw/schema/1/dc\n",
      "{http://www.loc.gov/zing/srw/}recordPacking xml\n",
      "{http://www.loc.gov/zing/srw/}recordData \n",
      "\n",
      "{http://www.loc.gov/zing/srw/}recordSchema info:srw/schema/1/dc\n",
      "{http://www.loc.gov/zing/srw/}recordPacking xml\n",
      "{http://www.loc.gov/zing/srw/}recordData \n",
      "\n",
      "{http://www.loc.gov/zing/srw/}recordSchema info:srw/schema/1/dc\n",
      "{http://www.loc.gov/zing/srw/}recordPacking xml\n",
      "{http://www.loc.gov/zing/srw/}recordData \n",
      "\n",
      "{http://www.loc.gov/zing/srw/}recordSchema info:srw/schema/1/dc\n",
      "{http://www.loc.gov/zing/srw/}recordPacking xml\n",
      "{http://www.loc.gov/zing/srw/}recordData \n",
      "\n",
      "{http://www.loc.gov/zing/srw/}recordSchema info:srw/schema/1/dc\n",
      "{http://www.loc.gov/zing/srw/}recordPacking xml\n",
      "{http://www.loc.gov/zing/srw/}recordData \n",
      "\n",
      "{http://www.loc.gov/zing/srw/}recordSchema info:srw/schema/1/dc\n",
      "{http://www.loc.gov/zing/srw/}recordPacking xml\n",
      "{http://www.loc.gov/zing/srw/}recordData \n",
      "\n",
      "{http://www.loc.gov/zing/srw/}recordSchema info:srw/schema/1/dc\n",
      "{http://www.loc.gov/zing/srw/}recordPacking xml\n",
      "{http://www.loc.gov/zing/srw/}recordData \n",
      "\n"
     ]
    }
   ],
   "source": [
    "for table in tree.getiterator('{http://www.loc.gov/zing/srw/}record'):\n",
    "    for child in table:\n",
    "        print(child.tag, child.text)"
   ]
  },
  {
   "cell_type": "code",
   "execution_count": 33,
   "metadata": {},
   "outputs": [
    {
     "name": "stdout",
     "output_type": "stream",
     "text": [
      "{http://www.loc.gov/zing/srw/}oclcdcs \n",
      "\n",
      "{http://www.loc.gov/zing/srw/}oclcdcs \n",
      "\n",
      "{http://www.loc.gov/zing/srw/}oclcdcs \n",
      "\n",
      "{http://www.loc.gov/zing/srw/}oclcdcs \n",
      "\n",
      "{http://www.loc.gov/zing/srw/}oclcdcs \n",
      "\n",
      "{http://www.loc.gov/zing/srw/}oclcdcs \n",
      "\n",
      "{http://www.loc.gov/zing/srw/}oclcdcs \n",
      "\n",
      "{http://www.loc.gov/zing/srw/}oclcdcs \n",
      "\n",
      "{http://www.loc.gov/zing/srw/}oclcdcs \n",
      "\n",
      "{http://www.loc.gov/zing/srw/}oclcdcs \n",
      "\n"
     ]
    }
   ],
   "source": [
    "for table in tree.getiterator('{http://www.loc.gov/zing/srw/}recordData'):\n",
    "    for child in table:\n",
    "        print(child.tag, child.text)"
   ]
  },
  {
   "cell_type": "code",
   "execution_count": 36,
   "metadata": {},
   "outputs": [
    {
     "name": "stdout",
     "output_type": "stream",
     "text": [
      "{http://purl.org/dc/elements/1.1/}creator Snelling, Lauraine.\n",
      "{http://purl.org/dc/elements/1.1/}date c2003\n",
      "{http://purl.org/dc/elements/1.1/}description \"Ruby Torvald sets out on a daunting journey with her young sister, Opal, to hopefully see their long-lost father once more and claim the promised inheritance. But instead of the treasure they expected, the sisters discover something most shocking.\" -- Book Cover.\n",
      "{http://purl.org/dc/elements/1.1/}format 320 p. ; 22 cm.\n",
      "{http://purl.org/dc/elements/1.1/}identifier 0764290762\n",
      "{http://purl.org/dc/elements/1.1/}identifier 9780764290763\n",
      "{http://purl.org/dc/elements/1.1/}identifier 0764222228\n",
      "{http://purl.org/dc/elements/1.1/}identifier 9780764222221\n",
      "{http://purl.org/dc/elements/1.1/}language eng\n",
      "{http://purl.org/dc/elements/1.1/}publisher Bethany House Publishers\n",
      "{http://purl.org/dc/elements/1.1/}relation Dakotah treasures ; 1\n",
      "{http://purl.org/dc/elements/1.1/}subject Inheritance and succession--Fiction.\n",
      "{http://purl.org/dc/elements/1.1/}subject Fathers and daughters--Fiction.\n",
      "{http://purl.org/dc/elements/1.1/}subject Women pioneers--Fiction.\n",
      "{http://purl.org/dc/elements/1.1/}subject Sisters--Fiction.\n",
      "{http://purl.org/dc/elements/1.1/}subject Medora (N.D.)--Fiction.\n",
      "{http://purl.org/dc/elements/1.1/}title Ruby \n",
      "{http://purl.org/dc/elements/1.1/}type Christian fiction.\n",
      "{http://purl.org/dc/elements/1.1/}type Western stories.\n",
      "{http://purl.org/dc/elements/1.1/}type Text\n",
      "{http://purl.org/oclc/terms/}recordCreationDate 030206\n",
      "{http://purl.org/oclc/terms/}recordIdentifier   2003002571\n",
      "{http://purl.org/oclc/terms/}recordIdentifier 51647374\n",
      "{http://purl.org/dc/elements/1.1/}creator Creech, Sharon.\n",
      "{http://purl.org/dc/elements/1.1/}date c2002\n",
      "{http://purl.org/dc/elements/1.1/}description 1st ed.\n",
      "{http://purl.org/dc/elements/1.1/}description Thirteen-year-old fraternal twins Dallas and Florida have grown up in a terrible orphanage but their lives change forever when an eccentric but sweet older couple invites them each on an adventure, beginning in an almost magical place called Ruby Holler.\n",
      "{http://purl.org/dc/elements/1.1/}description The Silver Bird -- The Boxton Creek Home -- Ruby Holler -- Mush -- Thinking Corners -- The Opportunity -- Doubts -- Hansel and Gretel -- The God -- The Egg -- The Grump -- Work -- Gravy -- Wood -- Conversations in the Night -- The Axe -- The Rocker -- The Trepids -- Understone Funds -- Through the Holler -- Lost and Found -- A Trip to Boxton -- Ready -- Tiller and Sairy -- The Holler at Night -- Shack Talk -- Trials -- Mrs. Trepid -- Decisions -- Nightmares -- Medicine -- Paddling and Hiking -- Z's Report -- Bearings -- Stiff -- A Long Chain -- Word Pictures -- Surveying -- The Worrywarts -- Babies in the Box -- Shopping -- Dorkhead -- Loops -- Progress -- The Rock -- Stones in the Holler -- Running -- More Shopping -- Underwater -- The Feeling -- Z -- The One-Log Raft -- The Dunces -- Slow Motion -- On the Road -- On the River -- The Soggy Heart -- Preparations -- Investments -- Hospital Talk -- Mr. Trepid's Adventure -- Jewels -- Mission-Accomplished Cake -- Appraisals -- Conversations in the Night -- Dreams.\n",
      "{http://purl.org/dc/elements/1.1/}format 310 p. ; 22 cm.\n",
      "{http://purl.org/dc/elements/1.1/}identifier 0060277327\n",
      "{http://purl.org/dc/elements/1.1/}identifier 9780060277321\n",
      "{http://purl.org/dc/elements/1.1/}identifier 0060277335 (lib. bdg)\n",
      "{http://purl.org/dc/elements/1.1/}identifier 9780060277338 (lib. bdg)\n",
      "{http://purl.org/dc/elements/1.1/}language eng\n",
      "{http://purl.org/dc/elements/1.1/}publisher Joanna Cotler Books/Harper Collins Publishers\n",
      "{http://purl.org/dc/elements/1.1/}relation http://www.loc.gov/catdir/description/hc041/00066371.html\n",
      "{http://purl.org/dc/elements/1.1/}subject Orphans--Juvenile fiction.\n",
      "{http://purl.org/dc/elements/1.1/}subject Twins--Juvenile fiction.\n",
      "{http://purl.org/dc/elements/1.1/}subject Brothers and sisters--Juvenile fiction.\n",
      "{http://purl.org/dc/elements/1.1/}subject Wood-carvers--Juvenile fiction.\n",
      "{http://purl.org/dc/elements/1.1/}subject Country life--Juvenile fiction.\n",
      "{http://purl.org/dc/elements/1.1/}subject Voyages and travels--Juvenile fiction.\n",
      "{http://purl.org/dc/elements/1.1/}title Ruby Holler \n",
      "{http://purl.org/dc/elements/1.1/}type Text\n",
      "{http://purl.org/oclc/terms/}recordCreationDate 001109\n",
      "{http://purl.org/oclc/terms/}recordIdentifier    00066371 \n",
      "{http://purl.org/oclc/terms/}recordIdentifier 45487314\n",
      "{http://purl.org/dc/elements/1.1/}creator Bridges, Ruby.\n",
      "{http://purl.org/dc/elements/1.1/}date 1999\n",
      "{http://purl.org/dc/elements/1.1/}description 1st ed.\n",
      "{http://purl.org/dc/elements/1.1/}description Ruby Bridges recounts the story of her involvement, as a six-year-old, in the integration of her school in New Orleans in 1960.\n",
      "{http://purl.org/dc/elements/1.1/}description green dot\n",
      "{http://purl.org/dc/elements/1.1/}format 63 p. : ill. ; 28 cm.\n",
      "{http://purl.org/dc/elements/1.1/}identifier 0590189239 (hc)\n",
      "{http://purl.org/dc/elements/1.1/}identifier 9780590189231 (hc)\n",
      "{http://purl.org/dc/elements/1.1/}language eng\n",
      "{http://purl.org/dc/elements/1.1/}publisher Scholastic Press\n",
      "{http://purl.org/dc/elements/1.1/}subject Bridges, Ruby--Juvenile literature.\n",
      "{http://purl.org/dc/elements/1.1/}subject African American children--Louisiana--New Orleans--Biography--Juvenile literature.\n",
      "{http://purl.org/dc/elements/1.1/}subject African Americans--Louisiana--New Orleans--Biography--Juvenile literature.\n",
      "{http://purl.org/dc/elements/1.1/}subject School integration--Louisiana--New Orleans--Juvenile literature.\n",
      "{http://purl.org/dc/elements/1.1/}subject New Orleans (La.)--Race relations--Juvenile literature.\n",
      "{http://purl.org/dc/elements/1.1/}title Through my eyes \n",
      "{http://purl.org/dc/elements/1.1/}type Text\n",
      "{http://purl.org/oclc/terms/}recordCreationDate 981216\n",
      "{http://purl.org/oclc/terms/}recordIdentifier    98049242 \n",
      "{http://purl.org/oclc/terms/}recordIdentifier 40588556\n",
      "{http://purl.org/dc/elements/1.1/}creator Andrews, V. C. (Virginia C.)\n",
      "{http://purl.org/dc/elements/1.1/}date c1994\n",
      "{http://purl.org/dc/elements/1.1/}description growing up in the heart of Cajun country, the only family Ruby Landry has ever known are her loving ghuardian Jack, a drunken outcast who lives alone in a shack in the swamp.\n",
      "{http://purl.org/dc/elements/1.1/}format 442 p. ; 23 cm.\n",
      "{http://purl.org/dc/elements/1.1/}identifier 0671759353\n",
      "{http://purl.org/dc/elements/1.1/}identifier 9780671759353\n",
      "{http://purl.org/dc/elements/1.1/}language eng\n",
      "{http://purl.org/dc/elements/1.1/}publisher Pocket Books\n",
      "{http://purl.org/dc/elements/1.1/}subject Aileler--Roman.\n",
      "{http://purl.org/dc/elements/1.1/}subject Luizana--Roman.\n",
      "{http://purl.org/dc/elements/1.1/}subject Families--Fiction.\n",
      "{http://purl.org/dc/elements/1.1/}subject Louisiana--Fiction.\n",
      "{http://purl.org/dc/elements/1.1/}title Ruby \n",
      "{http://purl.org/dc/elements/1.1/}type Romantic suspense novels.\n",
      "{http://purl.org/dc/elements/1.1/}type Text\n",
      "{http://purl.org/oclc/terms/}recordCreationDate 940608\n",
      "{http://purl.org/oclc/terms/}recordIdentifier    94168748 \n",
      "{http://purl.org/oclc/terms/}recordIdentifier 29631416\n",
      "{http://purl.org/dc/elements/1.1/}creator Emberley, Michael.\n",
      "{http://purl.org/dc/elements/1.1/}date c1990\n",
      "{http://purl.org/dc/elements/1.1/}description 1st ed.\n",
      "{http://purl.org/dc/elements/1.1/}description While taking cheese pies to her Granny, Ruby, a small but tough-minded little mouse, forgets her mother's advice not to talk to cats. Story is a variation on Red Riding Hood.\n",
      "{http://purl.org/dc/elements/1.1/}format [25] p. : col. ill. ; 21 cm.\n",
      "{http://purl.org/dc/elements/1.1/}identifier 0316236438 (lib. bdg.) \n",
      "{http://purl.org/dc/elements/1.1/}identifier 9780316236430 (lib. bdg.)\n",
      "{http://purl.org/dc/elements/1.1/}identifier 0316236608 (pbk.)\n",
      "{http://purl.org/dc/elements/1.1/}identifier 9780316236607 (pbk.)\n",
      "{http://purl.org/dc/elements/1.1/}language eng\n",
      "{http://purl.org/dc/elements/1.1/}publisher Little, Brown\n",
      "{http://purl.org/dc/elements/1.1/}subject Mice--Juvenile fiction.\n",
      "{http://purl.org/dc/elements/1.1/}subject Cats--Juvenile fiction.\n",
      "{http://purl.org/dc/elements/1.1/}title Ruby \n",
      "{http://purl.org/dc/elements/1.1/}type Text\n",
      "{http://purl.org/oclc/terms/}recordCreationDate 890511\n",
      "{http://purl.org/oclc/terms/}recordIdentifier    89012108 \n",
      "{http://purl.org/oclc/terms/}recordIdentifier 19774282\n",
      "{http://purl.org/dc/elements/1.1/}creator Ruby, Laura.\n",
      "{http://purl.org/dc/elements/1.1/}date 2007\n",
      "{http://purl.org/dc/elements/1.1/}description 1st ed.\n",
      "{http://purl.org/dc/elements/1.1/}description Loopy -- Restoration -- Ballad of the Barbie feet -- Dear psycho -- Safekeeping -- Picture of health -- I'm not Julia Roberts -- The bunko bunny -- The dog next door -- Hug machine.\n",
      "{http://purl.org/dc/elements/1.1/}format 251 p. : ill. ; 22 cm.\n",
      "{http://purl.org/dc/elements/1.1/}identifier 0446578746\n",
      "{http://purl.org/dc/elements/1.1/}identifier 9780446578745\n",
      "{http://purl.org/dc/elements/1.1/}language eng\n",
      "{http://purl.org/dc/elements/1.1/}publisher Warner Books\n",
      "{http://purl.org/dc/elements/1.1/}relation http://www.loc.gov/catdir/toc/ecip069/2006006832.html\n",
      "{http://purl.org/dc/elements/1.1/}subject Stepmothers--Fiction.\n",
      "{http://purl.org/dc/elements/1.1/}subject Stepfamilies--Fiction.\n",
      "{http://purl.org/dc/elements/1.1/}subject Illinois--Fiction.\n",
      "{http://purl.org/dc/elements/1.1/}title I'm not Julia Roberts \n",
      "{http://purl.org/dc/elements/1.1/}title I am not Julia Roberts\n",
      "{http://purl.org/dc/elements/1.1/}type Text\n",
      "{http://purl.org/oclc/terms/}recordCreationDate 060227\n",
      "{http://purl.org/oclc/terms/}recordIdentifier   2006006832\n",
      "{http://purl.org/oclc/terms/}recordIdentifier 64442891\n",
      "{http://purl.org/dc/elements/1.1/}creator Ruby, Laura.\n",
      "{http://purl.org/dc/elements/1.1/}date c2007\n",
      "{http://purl.org/dc/elements/1.1/}description 1st ed.\n",
      "{http://purl.org/dc/elements/1.1/}description Thirteen-year-old Georgie and Bug, a year older, have been pulled apart by the demands of their newfound fame and fortune, but join forces again when a punk, vampires, a giant sloth, and other creatures come after them on the streets of a New York City of the future.\n",
      "{http://purl.org/dc/elements/1.1/}format 325 p. ; 22 cm.\n",
      "{http://purl.org/dc/elements/1.1/}identifier 9780060752583 (trade bdg.)\n",
      "{http://purl.org/dc/elements/1.1/}identifier 9780060752590 (lib. bdg.)\n",
      "{http://purl.org/dc/elements/1.1/}identifier 0060752580\n",
      "{http://purl.org/dc/elements/1.1/}identifier 0060752599\n",
      "{http://purl.org/dc/elements/1.1/}language eng\n",
      "{http://purl.org/dc/elements/1.1/}publisher Eos\n",
      "{http://purl.org/dc/elements/1.1/}relation http://www.loc.gov/catdir/enhancements/fy0911/2007008621-b.html\n",
      "{http://purl.org/dc/elements/1.1/}relation http://www.loc.gov/catdir/enhancements/fy0911/2007008621-d.html\n",
      "{http://purl.org/dc/elements/1.1/}subject Fame--Juvenile fiction.\n",
      "{http://purl.org/dc/elements/1.1/}subject Wealth--Juvenile fiction.\n",
      "{http://purl.org/dc/elements/1.1/}subject Supernatural--Juvenile fiction.\n",
      "{http://purl.org/dc/elements/1.1/}subject Books and reading--Juvenile fiction.\n",
      "{http://purl.org/dc/elements/1.1/}subject Cats--Juvenile fiction.\n",
      "{http://purl.org/dc/elements/1.1/}subject Flight--Juvenile fiction.\n",
      "{http://purl.org/dc/elements/1.1/}subject New York (N.Y.)--Juvenile fiction.\n",
      "{http://purl.org/dc/elements/1.1/}title The chaos king \n",
      "{http://purl.org/dc/elements/1.1/}type Fantasy fiction.\n",
      "{http://purl.org/dc/elements/1.1/}type Children's stories.\n",
      "{http://purl.org/dc/elements/1.1/}type Text\n",
      "{http://purl.org/oclc/terms/}recordCreationDate 070329\n",
      "{http://purl.org/oclc/terms/}recordIdentifier   2007008621\n",
      "{http://purl.org/oclc/terms/}recordIdentifier 122309000\n",
      "{http://purl.org/dc/elements/1.1/}creator Ruby, Laura.\n",
      "{http://purl.org/dc/elements/1.1/}date c2009\n",
      "{http://purl.org/dc/elements/1.1/}description 1st ed.\n",
      "{http://purl.org/dc/elements/1.1/}description Tola Riley, a high school junior, struggles to tell the truth when she and her art teacher are accused of having an affair.\n",
      "{http://purl.org/dc/elements/1.1/}format 247 p. ; 22 cm.\n",
      "{http://purl.org/dc/elements/1.1/}identifier 9780061243301 (trade bdg.)\n",
      "{http://purl.org/dc/elements/1.1/}identifier 0061243302 (trade bdg.)\n",
      "{http://purl.org/dc/elements/1.1/}identifier 9780061243325 (lib. bdg.)\n",
      "{http://purl.org/dc/elements/1.1/}identifier 0061243329 (lib. bdg.)\n",
      "{http://purl.org/dc/elements/1.1/}language eng\n",
      "{http://purl.org/dc/elements/1.1/}publisher HarperTeen\n",
      "{http://purl.org/dc/elements/1.1/}subject Teacher-student relationships--Fiction.\n",
      "{http://purl.org/dc/elements/1.1/}subject Cyberbullying--Fiction.\n",
      "{http://purl.org/dc/elements/1.1/}subject High schools--Fiction.\n",
      "{http://purl.org/dc/elements/1.1/}subject Schools--Fiction.\n",
      "{http://purl.org/dc/elements/1.1/}subject Family problems--Fiction.\n",
      "{http://purl.org/dc/elements/1.1/}subject Divorce--Fiction.\n",
      "{http://purl.org/dc/elements/1.1/}title Bad apple \n",
      "{http://purl.org/dc/elements/1.1/}type Text\n",
      "{http://purl.org/oclc/terms/}recordCreationDate 090128\n",
      "{http://purl.org/oclc/terms/}recordIdentifier   2009001409\n",
      "{http://purl.org/oclc/terms/}recordIdentifier 300462588\n",
      "{http://purl.org/dc/elements/1.1/}creator Ruby, Laura.\n",
      "{http://purl.org/dc/elements/1.1/}date c2006\n",
      "{http://purl.org/dc/elements/1.1/}description 1st ed.\n",
      "{http://purl.org/dc/elements/1.1/}description In a future New York where most people can fly and cats are a rarity, a nondescript resident of Hope House for the Homeless and Hopeless discovers that although she is shunned as a \"leadfoot,\" she has the surprising ability to become invisible.\n",
      "{http://purl.org/dc/elements/1.1/}format 327 p. ; 22 cm.\n",
      "{http://purl.org/dc/elements/1.1/}identifier 0060752556\n",
      "{http://purl.org/dc/elements/1.1/}identifier 0060752564 (lib. bdg.)\n",
      "{http://purl.org/dc/elements/1.1/}identifier 9780060752552\n",
      "{http://purl.org/dc/elements/1.1/}identifier 9780060752569\n",
      "{http://purl.org/dc/elements/1.1/}language eng\n",
      "{http://purl.org/dc/elements/1.1/}publisher Eos\n",
      "{http://purl.org/dc/elements/1.1/}relation http://www.loc.gov/catdir/toc/ecip0518/2005023170.html\n",
      "{http://purl.org/dc/elements/1.1/}relation http://www.loc.gov/catdir/enhancements/fy0910/2005023170-b.html\n",
      "{http://purl.org/dc/elements/1.1/}relation http://www.loc.gov/catdir/enhancements/fy0910/2005023170-d.html\n",
      "{http://purl.org/dc/elements/1.1/}subject Orphans--Juvenile fiction.\n",
      "{http://purl.org/dc/elements/1.1/}subject Orphanages--Juvenile fiction.\n",
      "{http://purl.org/dc/elements/1.1/}subject Cats--Juvenile fiction.\n",
      "{http://purl.org/dc/elements/1.1/}subject Flight--Juvenile fiction.\n",
      "{http://purl.org/dc/elements/1.1/}subject Gangsters--Juvenile fiction.\n",
      "{http://purl.org/dc/elements/1.1/}subject New York (N.Y.)--Juvenile fiction.\n",
      "{http://purl.org/dc/elements/1.1/}title The Wall and the Wing \n",
      "{http://purl.org/dc/elements/1.1/}type Text\n",
      "{http://purl.org/oclc/terms/}recordCreationDate 050816\n",
      "{http://purl.org/oclc/terms/}recordIdentifier   2005023170\n",
      "{http://purl.org/oclc/terms/}recordIdentifier 61451492\n",
      "{http://purl.org/dc/elements/1.1/}creator Ruby, Laura.\n",
      "{http://purl.org/dc/elements/1.1/}date c2006\n",
      "{http://purl.org/dc/elements/1.1/}description 1st ed.\n",
      "{http://purl.org/dc/elements/1.1/}description Sixteen-year-old high school senior Audrey is humiliated when a compromising photograph of her is sent around her school, but she discovers a toughness within her that she never knew she had.\n",
      "{http://purl.org/dc/elements/1.1/}format 274 p. ; 22 cm.\n",
      "{http://purl.org/dc/elements/1.1/}identifier 0060882239 (trade bdg.)\n",
      "{http://purl.org/dc/elements/1.1/}identifier 9780060882235 (trade bdg.)\n",
      "{http://purl.org/dc/elements/1.1/}identifier 0060882247 (lib. bdg.)\n",
      "{http://purl.org/dc/elements/1.1/}identifier 9780060882242 (lib. bdg.)\n",
      "{http://purl.org/dc/elements/1.1/}language eng\n",
      "{http://purl.org/dc/elements/1.1/}publisher HarperTempest\n",
      "{http://purl.org/dc/elements/1.1/}subject Interpersonal relations--Juvenile fiction.\n",
      "{http://purl.org/dc/elements/1.1/}subject Sex--Juvenile fiction.\n",
      "{http://purl.org/dc/elements/1.1/}subject Conduct of life--Juvenile fiction.\n",
      "{http://purl.org/dc/elements/1.1/}subject High schools--Juvenile fiction.\n",
      "{http://purl.org/dc/elements/1.1/}subject Schools--Juvenile fiction.\n",
      "{http://purl.org/dc/elements/1.1/}title Good girls \n",
      "{http://purl.org/dc/elements/1.1/}type Text\n",
      "{http://purl.org/oclc/terms/}recordCreationDate 060125\n",
      "{http://purl.org/oclc/terms/}recordIdentifier   2006000340\n",
      "{http://purl.org/oclc/terms/}recordIdentifier 63187390\n"
     ]
    }
   ],
   "source": [
    "for table in tree.getiterator('{http://www.loc.gov/zing/srw/}oclcdcs'):\n",
    "    for child in table:\n",
    "        print(child.tag, child.text)"
   ]
  },
  {
   "cell_type": "code",
   "execution_count": 39,
   "metadata": {},
   "outputs": [],
   "source": [
    "for table in tree.getiterator('{http://purl.org/dc/elements/1.1/}identifier'):\n",
    "    for child in table:\n",
    "        print(child.tag, child.text)"
   ]
  },
  {
   "cell_type": "markdown",
   "metadata": {},
   "source": [
    "Como ves, hay que ir entendiendo la jerarquía del XML para poder obtener la información. \n",
    "\n",
    "¿Puedes obtener los títulos de los recursos descritos en el XML?"
   ]
  },
  {
   "cell_type": "code",
   "execution_count": 19,
   "metadata": {},
   "outputs": [
    {
     "name": "stderr",
     "output_type": "stream",
     "text": [
      "/opt/conda/lib/python3.6/site-packages/ipykernel_launcher.py:1: FutureWarning: This search is broken in 1.3 and earlier, and will be fixed in a future version.  If you rely on the current behaviour, change it to './/{http://purl.org/dc/elements/1.1/}title'\n",
      "  \"\"\"Entry point for launching an IPython kernel.\n"
     ]
    }
   ],
   "source": [
    "relation = tree.findall('//{http://purl.org/dc/elements/1.1/}title')\n",
    "for elem in relation:\n",
    "    print(elem.tag, elem.text)"
   ]
  },
  {
   "cell_type": "code",
   "execution_count": 21,
   "metadata": {},
   "outputs": [
    {
     "name": "stdout",
     "output_type": "stream",
     "text": [
      "{http://purl.org/dc/elements/1.1/}title Ruby \n",
      "{http://purl.org/dc/elements/1.1/}title Ruby Holler \n",
      "{http://purl.org/dc/elements/1.1/}title Through my eyes \n",
      "{http://purl.org/dc/elements/1.1/}title Ruby \n",
      "{http://purl.org/dc/elements/1.1/}title Ruby \n",
      "{http://purl.org/dc/elements/1.1/}title I'm not Julia Roberts \n",
      "{http://purl.org/dc/elements/1.1/}title I am not Julia Roberts\n",
      "{http://purl.org/dc/elements/1.1/}title The chaos king \n",
      "{http://purl.org/dc/elements/1.1/}title Bad apple \n",
      "{http://purl.org/dc/elements/1.1/}title The Wall and the Wing \n",
      "{http://purl.org/dc/elements/1.1/}title Good girls \n"
     ]
    },
    {
     "name": "stderr",
     "output_type": "stream",
     "text": [
      "/opt/conda/lib/python3.6/site-packages/ipykernel_launcher.py:2: FutureWarning: This search is broken in 1.3 and earlier, and will be fixed in a future version.  If you rely on the current behaviour, change it to './/dc:title'\n",
      "  \n"
     ]
    }
   ],
   "source": [
    "namespaces = {'dc': 'http://purl.org/dc/elements/1.1/'} # add more as needed\n",
    "relation = tree.findall('//dc:title',namespaces)\n",
    "for elem in relation:\n",
    "    print(elem.tag, elem.text)"
   ]
  },
  {
   "cell_type": "markdown",
   "metadata": {},
   "source": [
    "Ejemplo con EML"
   ]
  },
  {
   "cell_type": "code",
   "execution_count": 47,
   "metadata": {},
   "outputs": [],
   "source": [
    "import requests\n",
    "\n",
    "response = requests.get('https://zenodo.org/record/841691/files/amt_prototype.xml')\n",
    "if response.status_code == 200:\n",
    "    with open(\"./amt_prototype.xml\", 'wb') as f:\n",
    "        f.write(response.content)\n",
    "        \n"
   ]
  },
  {
   "cell_type": "code",
   "execution_count": 48,
   "metadata": {},
   "outputs": [
    {
     "name": "stdout",
     "output_type": "stream",
     "text": [
      "amt_prototype.xml  dublincore-example.xml  MetadataIntro.ipynb\r\n"
     ]
    }
   ],
   "source": [
    "ls"
   ]
  },
  {
   "cell_type": "markdown",
   "metadata": {},
   "source": [
    "En estándares más complejos, el xml de base puede tener una jerarquía anidada, como es el caso de EML. Entonces, cada elemento puede tener de 0 a N \"hijos\", formando nuevos árboles."
   ]
  },
  {
   "cell_type": "code",
   "execution_count": 54,
   "metadata": {},
   "outputs": [
    {
     "name": "stdout",
     "output_type": "stream",
     "text": [
      "alternateIdentifier \n",
      "10.5281/zenodo.841183\n",
      "\n",
      "title water reservoir of Cuerda del Pozo\n",
      "organizationName IFCA\n",
      "electronicMailAddress marco@ifca.unican.es\n",
      "salutation Mr\n",
      "givenName Jesus Marco\n",
      "surName De Lucas\n",
      "deliveryPoint Avda Castros s/n\n",
      "city Santander\n",
      "postalCode 39005\n",
      "country Spain\n",
      "organizationName IFCA\n",
      "electronicMailAddress aguilarf@ifca.unican.es\n",
      "role guardian\n",
      "givenName Fernando\n",
      "surName Aguilar\n",
      "deliveryPoint Avda Castros s/n\n",
      "city Santander\n",
      "postalCode 39005\n",
      "country Spain\n",
      "para The CTD 60 is a precision probe for oceanographic and limnological measurements of physical, chemical and optical parameters up to a depth of 2000 m. It allows the simultaneous measurement of following parameters: Pressure (depth), temperature, conductivity, raw O2, REDOX, dissolved oxygen, pH, Oxigen Saturation, Salinity.\n",
      "keyword measure\n",
      "keyword water reservoir\n",
      "keyword sensor\n",
      "keyword physical and chemical parameters\n",
      "geographicDescription water reservoir\n",
      "westBoundingCoordinate -3.75\n",
      "eastBoundingCoordinate -2.375\n",
      "northBoundingCoordinate 42.0\n",
      "southBoundingCoordinate 40.875\n",
      "calendarDate 2010\n",
      "calendarDate 2010\n",
      "organizationName IFCA\n",
      "electronicMailAddress garciad@ifca.unican.es\n",
      "givenName Daniel\n",
      "surName Garcia\n",
      "deliveryPoint Avda Castros S/N\n",
      "city Santander\n",
      "postalCode 39005\n",
      "country Spain\n",
      "instrumentation CTD60M-Probe. It allows the simultaneous measurement of following parameters: Pressure (depth), temperature, conductivity, raw O2, REDOX, dissolved oxygen, pH, Oxigen Saturation, Salinity.\n",
      "title stationary measures\n",
      "para measures taken at a stationary depth of about 4 meters with a CTD 60. Measurements of physical, chemical and optical parameter.\n",
      "entityName AMT\n",
      "entityDescription Measurement of following parameters: Pressure (depth), temperature, conductivity, raw O2, REDOX, dissolved oxygen, pH, Oxigen Saturation, Salinity.\n",
      "objectName amt.csv\n",
      "size 4275737\n",
      "authentication f38ded28383d9f69af7cb9c98aed798b\n",
      "encodingMethod ASCII text\n",
      "characterEncoding us-ascii\n",
      "numHeaderLines 1\n",
      "numFooterLines 0\n",
      "attributeOrientation column\n",
      "recordDelimiter \\n\n",
      "physicalLineDelimiter \\n\n",
      "fieldDelimiter ;\n",
      "quoteCharacter \"\n",
      "url http://doriiie02.ifca.es/datasets/amt.csv\n",
      "title ROEM +\n",
      "personnel Agustin Monteoliva\n",
      "abstract Life + Project... eutrophication\n",
      "funding EC\n",
      "descriptor Ecology\n",
      "attributeName date\n",
      "attributeLabel date\n",
      "attributeDefinition date of measure\n",
      "storageType string\n",
      "formatString YYYY-MM-DD , hh:mm\n",
      "dateTimePrecision 1\n",
      "minimum 2010-01-01 , 00:00\n",
      "maximum 2016-12-31 , 23:59\n",
      "attributeName Temperature\n",
      "attributeLabel Temp\n",
      "attributeDefinition Temperature\n",
      "storageType double\n",
      "precision 0.01\n",
      "standardUnit celsius\n",
      "numberType real\n",
      "minimum -2.0\n",
      "maximum 32.0\n",
      "para This parameter is filtered from raw when value is less than -1.0 or higher than 35.0\n",
      "references 1827473819284\n",
      "para Temperature calibration\n",
      "description Calibration step for temperature\n",
      "attributeName Press\n",
      "attributeLabel Press\n",
      "attributeDefinition Press (Depth)\n",
      "storageType double\n",
      "precision 0.1\n",
      "customUnit dbar\n",
      "numberType real\n",
      "minimum 0\n",
      "maximum 50\n",
      "para Parameter is filtered when Press * 1.02 less than 0.0 or Press * 1.02 is higher than  30.0\n",
      "references 1827473819284\n",
      "attributeName Conductivity\n",
      "attributeLabel Cond\n",
      "attributeDefinition Conductivity of an electrolyte solution is a measure of its ability to conduct electricity. The SI unit of conductivity is siemens per meter (S/m).\n",
      "storageType double\n",
      "precision 0.005\n",
      "customUnit mS/cm\n",
      "numberType real\n",
      "minimum 0\n",
      "maximum 6\n",
      "para Parameter is filtered when is less than 0.0001 or higher than 0.3\n",
      "references 1827473819284\n",
      "attributeName Salinity\n",
      "attributeLabel Salinity\n",
      "attributeDefinition Salinity of water cannot be measured directly by one single sensor, it is calculated from the individual sensors for pressure, temperature and conductivity\n",
      "storageType Double\n",
      "precision 0.0001\n",
      "customUnit psu\n",
      "numberType real\n",
      "minimum 0\n",
      "maximum 0.1\n",
      "references 1827473819284\n",
      "attributeName Dissolved oxygen\n",
      "attributeLabel DO\n",
      "attributeDefinition Dissolved oxygen refers to the level of free\n",
      "storageType double\n",
      "precision 0.1\n",
      "standardUnit milligramsPerLiter\n",
      "numberType real\n",
      "minimum 0\n",
      "maximum 20\n",
      "para Parameter is filtered when is less than 0 and higher than 30\n",
      "references 1827473819284\n",
      "attributeName rawO2\n",
      "attributeLabel rawO2\n",
      "attributeDefinition dissolved oxygen\n",
      "storageType double\n",
      "precision 10\n",
      "standardUnit dimensionless\n",
      "numberType real\n",
      "minimum 0\n",
      "maximum 5000\n",
      "references 1827473819284\n",
      "attributeName Oxygen Saturation\n",
      "attributeLabel OxySat\n",
      "attributeDefinition relative measure of the amount of oxygen that is dissolved or carried in a given medium. %\n",
      "storageType double\n",
      "precision 1\n",
      "standardUnit dimensionless\n",
      "numberType real\n",
      "minimum 0\n",
      "maximum 120\n",
      "para Parameter is filtered when is less than 0  or higher than 200\n",
      "references 1827473819284\n",
      "attributeName ph\n",
      "attributeLabel ph\n",
      "attributeDefinition numeric scale used to specify the acidity or basicity\n",
      "storageType double\n",
      "precision 0.1\n",
      "standardUnit dimensionless\n",
      "numberType real\n",
      "minimum 4\n",
      "maximum 10\n",
      "para Parameter is filtered when is less tha 5 or higher than10\n",
      "references 1827473819284\n",
      "attributeName Redox\n",
      "attributeLabel redox\n",
      "attributeDefinition Redox\n",
      "storageType double\n",
      "precision 10\n",
      "standardUnit dimensionless\n",
      "numberType real\n",
      "minimum 0\n",
      "maximum 5000\n",
      "references 1827473819284\n",
      "title Peaks Detector\n",
      "license GPL\n",
      "version 1.0\n",
      "para Detects and filter peaks from parameters defined in a CSV file \n",
      "references 1465302104227\n",
      "programmingLanguage Python 2.7.3\n",
      "mediumName doriiie02 Server HDD\n",
      "description decibar, Units derived from the bar.\n",
      "description Conductivity of an electrolyte solution is a measure of its ability to conduct electricity. The SI unit of conductivity is siemens per meter (S/m).\n",
      "description practical salinity unit\n"
     ]
    }
   ],
   "source": [
    "tree = ET.parse('amt_prototype.xml')\n",
    "root = tree.getroot()\n",
    "\n",
    "for table in root.getiterator():\n",
    "    for child in table:\n",
    "        if len(child)==0:\n",
    "            print(child.tag, child.text)"
   ]
  },
  {
   "cell_type": "markdown",
   "metadata": {},
   "source": [
    "Explora un poco: Nombre del proyecto, autores, lista de atributos..."
   ]
  },
  {
   "cell_type": "code",
   "execution_count": 77,
   "metadata": {
    "scrolled": true
   },
   "outputs": [
    {
     "name": "stdout",
     "output_type": "stream",
     "text": [
      "attributeName: date\n"
     ]
    },
    {
     "name": "stderr",
     "output_type": "stream",
     "text": [
      "/opt/conda/lib/python3.6/site-packages/ipykernel_launcher.py:2: FutureWarning: This search is broken in 1.3 and earlier, and will be fixed in a future version.  If you rely on the current behaviour, change it to './/attributeList/attribute[@id=\"1465311292527\"]/attributeName'\n",
      "  \n"
     ]
    }
   ],
   "source": [
    "#elementos = tree.findall('/dataset[1]/creator/individualName/salutation')\n",
    "elementos = tree.findall('//attributeList/attribute[@id=\"1465311292527\"]/attributeName')\n",
    "for e in elementos:\n",
    "    print(e.tag + \":\", e.text)"
   ]
  },
  {
   "cell_type": "code",
   "execution_count": null,
   "metadata": {},
   "outputs": [],
   "source": [
    "dataset = ET.SubElement(root,'dataset')\n",
    "for table in dataset.getiterator():\n",
    "    print(child.tag, child.text)"
   ]
  },
  {
   "cell_type": "markdown",
   "metadata": {},
   "source": [
    "# Ejercicio personal"
   ]
  },
  {
   "cell_type": "markdown",
   "metadata": {},
   "source": [
    "A partir del ejemplo completo del esquema de metadatos de DataCite, muestra por pantalla los elementos que sean equivalentes a los propuestos por Dublin Core (cada uno en una línea). Es posible que tengas que combinar en uno varios campos del archivo de metadatos (Por ejemplo, en coverage las coordenadas + el nombre).\n",
    "\n",
    "* Title: \n",
    "* Creator: \n",
    "* Subject:  \n",
    "* Description: \n",
    "* Publisher: \n",
    "* Contributor:\n",
    "* Date: \n",
    "* Type: \n",
    "* Format: \n",
    "* Identifier: \n",
    "* Source: \n",
    "* Language:\n",
    "* Relation:\n",
    "* Coverage:  \n",
    "* Rights:\n",
    "\n",
    "Recurso: https://schema.datacite.org/meta/kernel-3.1/example/datacite-example-full-v3.1.xml"
   ]
  },
  {
   "cell_type": "code",
   "execution_count": 1,
   "metadata": {},
   "outputs": [],
   "source": [
    "import requests\n",
    "\n",
    "response = requests.get('https://schema.datacite.org/meta/kernel-3.1/example/datacite-example-full-v3.1.xml')\n",
    "if response.status_code == 200:\n",
    "    with open(\"./datacite.xml\", 'wb') as f:\n",
    "        f.write(response.content)"
   ]
  },
  {
   "cell_type": "code",
   "execution_count": 48,
   "metadata": {},
   "outputs": [
    {
     "name": "stdout",
     "output_type": "stream",
     "text": [
      "{http://datacite.org/schema/kernel-3}identifier 10.5072/example-full\n",
      "{http://datacite.org/schema/kernel-3}publisher DataCite\n",
      "{http://datacite.org/schema/kernel-3}publicationYear 2014\n",
      "{http://datacite.org/schema/kernel-3}language en-us\n",
      "{http://datacite.org/schema/kernel-3}resourceType XML\n",
      "{http://datacite.org/schema/kernel-3}version 3.1\n",
      "{http://datacite.org/schema/kernel-3}creatorName Miller, Elizabeth\n",
      "{http://datacite.org/schema/kernel-3}nameIdentifier 0000-0001-5000-0007\n",
      "{http://datacite.org/schema/kernel-3}affiliation DataCite\n",
      "{http://datacite.org/schema/kernel-3}title Full DataCite XML Example\n",
      "{http://datacite.org/schema/kernel-3}title Demonstration of DataCite Properties.\n",
      "{http://datacite.org/schema/kernel-3}subject 000 computer science\n",
      "{http://datacite.org/schema/kernel-3}contributorName Starr, Joan\n",
      "{http://datacite.org/schema/kernel-3}nameIdentifier 0000-0002-7285-027X\n",
      "{http://datacite.org/schema/kernel-3}affiliation California Digital Library\n",
      "{http://datacite.org/schema/kernel-3}date 2014-10-17\n",
      "{http://datacite.org/schema/kernel-3}alternateIdentifier http://schema.datacite.org/schema/meta/kernel-3.1/example/datacite-example-full-v3.1.xml\n",
      "{http://datacite.org/schema/kernel-3}relatedIdentifier http://data.datacite.org/application/citeproc+json/10.5072/example-full\n",
      "{http://datacite.org/schema/kernel-3}relatedIdentifier arXiv:0706.0001\n",
      "{http://datacite.org/schema/kernel-3}size 3KB\n",
      "{http://datacite.org/schema/kernel-3}format application/xml\n",
      "{http://datacite.org/schema/kernel-3}rights CC0 1.0 Universal\n",
      "{http://datacite.org/schema/kernel-3}description \n",
      "            XML example of all DataCite Metadata Schema v3.1 properties.\n",
      "        \n",
      "{http://datacite.org/schema/kernel-3}geoLocationPoint 31.233 -67.302\n",
      "{http://datacite.org/schema/kernel-3}geoLocationBox 41.090 -71.032  42.893 -68.211\n",
      "{http://datacite.org/schema/kernel-3}geoLocationPlace Atlantic Ocean\n"
     ]
    }
   ],
   "source": [
    "import xml.etree.ElementTree as ET\n",
    "\n",
    "tree = ET.parse('datacite.xml')\n",
    "root = tree.getroot()\n",
    "\n",
    "for table in root.getiterator():\n",
    "    for child in table:\n",
    "        if len(child)==0:\n",
    "            print(child.tag, child.text)"
   ]
  },
  {
   "cell_type": "code",
   "execution_count": 55,
   "metadata": {},
   "outputs": [
    {
     "name": "stderr",
     "output_type": "stream",
     "text": [
      "/opt/conda/lib/python3.6/site-packages/ipykernel_launcher.py:2: FutureWarning: This search is broken in 1.3 and earlier, and will be fixed in a future version.  If you rely on the current behaviour, change it to './/creatorName'\n",
      "  \n"
     ]
    }
   ],
   "source": [
    "namespaces = {'schemaLocation':'http://schema.datacite.org/meta/kernel-3/metadata.xsd'} # add more as needed\n",
    "elementos = tree.findall('//creatorName',namespaces)\n",
    "for e in elementos:\n",
    "    print(\"Titulo:\", e.text)\n"
   ]
  },
  {
   "cell_type": "code",
   "execution_count": 43,
   "metadata": {},
   "outputs": [
    {
     "name": "stdout",
     "output_type": "stream",
     "text": [
      "Título Dataset: water reservoir of Cuerda del Pozo\n",
      "Descripción: water reservoir\n",
      "Columna: date\n",
      "Columna: Temp\n",
      "Columna: Press\n",
      "Columna: Cond\n",
      "Columna: Salinity\n",
      "Columna: DO\n",
      "Columna: rawO2\n",
      "Columna: OxySat\n",
      "Columna: ph\n",
      "Columna: redox\n",
      "Descargar: http://doriiie02.ifca.es/datasets/amt.csv\n",
      "Tamaño: 4275737\n",
      "CheckSum: f38ded28383d9f69af7cb9c98aed798b\n",
      "Delimitador: ;\n"
     ]
    },
    {
     "name": "stderr",
     "output_type": "stream",
     "text": [
      "/opt/conda/lib/python3.6/site-packages/ipykernel_launcher.py:4: FutureWarning: This search is broken in 1.3 and earlier, and will be fixed in a future version.  If you rely on the current behaviour, change it to './/project/title'\n",
      "  after removing the cwd from sys.path.\n",
      "/opt/conda/lib/python3.6/site-packages/ipykernel_launcher.py:8: FutureWarning: This search is broken in 1.3 and earlier, and will be fixed in a future version.  If you rely on the current behaviour, change it to './/dataset/title'\n",
      "  \n",
      "/opt/conda/lib/python3.6/site-packages/ipykernel_launcher.py:11: FutureWarning: This search is broken in 1.3 and earlier, and will be fixed in a future version.  If you rely on the current behaviour, change it to './/geographicDescription'\n",
      "  # This is added back by InteractiveShellApp.init_path()\n",
      "/opt/conda/lib/python3.6/site-packages/ipykernel_launcher.py:15: FutureWarning: This search is broken in 1.3 and earlier, and will be fixed in a future version.  If you rely on the current behaviour, change it to './/attributeLabel'\n",
      "  from ipykernel import kernelapp as app\n",
      "/opt/conda/lib/python3.6/site-packages/ipykernel_launcher.py:19: FutureWarning: This search is broken in 1.3 and earlier, and will be fixed in a future version.  If you rely on the current behaviour, change it to './/url'\n",
      "/opt/conda/lib/python3.6/site-packages/ipykernel_launcher.py:22: FutureWarning: This search is broken in 1.3 and earlier, and will be fixed in a future version.  If you rely on the current behaviour, change it to './/size'\n",
      "/opt/conda/lib/python3.6/site-packages/ipykernel_launcher.py:25: FutureWarning: This search is broken in 1.3 and earlier, and will be fixed in a future version.  If you rely on the current behaviour, change it to './/authentication'\n",
      "/opt/conda/lib/python3.6/site-packages/ipykernel_launcher.py:28: FutureWarning: This search is broken in 1.3 and earlier, and will be fixed in a future version.  If you rely on the current behaviour, change it to './/fieldDelimiter'\n"
     ]
    }
   ],
   "source": [
    "tree = ET.parse('amt_prototype.xml')\n",
    "root = tree.getroot()\n",
    "\n",
    "elementos = tree.findall('//project/title',namespaces)\n",
    "for e in elementos:\n",
    "    print(\"Título proyecto:\", e.text)\n",
    "    \n",
    "elementos = tree.findall('//dataset/title',namespaces)\n",
    "for e in elementos:\n",
    "    print(\"Título Dataset:\", e.text)\n",
    "elementos = tree.findall('//geographicDescription',namespaces)\n",
    "for e in elementos:\n",
    "    print(\"Descripción:\", e.text)\n",
    "\n",
    "elementos = tree.findall('//attributeLabel',namespaces)\n",
    "for e in elementos:\n",
    "    print(\"Columna:\", e.text)\n",
    "    \n",
    "elementos = tree.findall('//url',namespaces)\n",
    "for e in elementos:\n",
    "    print(\"Descargar:\", e.text)\n",
    "elementos = tree.findall('//size',namespaces)\n",
    "for e in elementos:\n",
    "    print(\"Tamaño:\", e.text)\n",
    "elementos = tree.findall('//authentication',namespaces)\n",
    "for e in elementos:\n",
    "    print(\"CheckSum:\", e.text)\n",
    "elementos = tree.findall('//fieldDelimiter',namespaces)\n",
    "for e in elementos:\n",
    "    print(\"Delimitador:\", e.text)"
   ]
  }
 ],
 "metadata": {
  "kernelspec": {
   "display_name": "Python 3",
   "language": "python",
   "name": "python3"
  },
  "language_info": {
   "codemirror_mode": {
    "name": "ipython",
    "version": 3
   },
   "file_extension": ".py",
   "mimetype": "text/x-python",
   "name": "python",
   "nbconvert_exporter": "python",
   "pygments_lexer": "ipython3",
   "version": "3.6.3"
  }
 },
 "nbformat": 4,
 "nbformat_minor": 1
}
