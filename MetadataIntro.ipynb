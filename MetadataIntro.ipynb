{
 "cells": [
  {
   "cell_type": "markdown",
   "metadata": {},
   "source": [
    "# Gestión y uso de Metadatos"
   ]
  },
  {
   "cell_type": "markdown",
   "metadata": {},
   "source": [
    "En este Notebook descubriremos cómo pueden explotarse metadatos publicados en formatos basados en etiquetas, como XML."
   ]
  },
  {
   "cell_type": "markdown",
   "metadata": {},
   "source": [
    "<img src=\"https://www.republica.com/wp-content/uploads/2017/04/grito.jpg \" width=\"250\">"
   ]
  },
  {
   "cell_type": "markdown",
   "metadata": {},
   "source": [
    "Vamos a empezar por describir un par de objetos, empezando por un cuadro, \"El grito\", de  Edvard Munch.\n",
    "\n",
    "* Title: \n",
    "* Creator: \n",
    "* Subject:  \n",
    "* Description: \n",
    "* Publisher: \n",
    "* Contributor:\n",
    "* Date: \n",
    "* Type: \n",
    "* Format: \n",
    "* Identifier: \n",
    "* Source: \n",
    "* Language:\n",
    "* Relation:\n",
    "* Coverage:  \n",
    "* Rights:"
   ]
  },
  {
   "cell_type": "markdown",
   "metadata": {},
   "source": [
    "Con Dublin Core también podemos describir datasets científicos. Vamos a probar con:\n",
    "\n",
    "https://zenodo.org/record/583733#.WfL3V3V96-o\n",
    "\n",
    "<div class=\"alert alert-warning\" role=\"alert\" style=\"margin: 10px\">\n",
    "<p>**Consejo**</p>\n",
    "\n",
    "<p>En el propio repositorio puedes encontrar metadatos</p>\n",
    "</div>\n",
    "\n",
    "* Title: \n",
    "* Creator: \n",
    "* Subject:  \n",
    "* Description: \n",
    "* Publisher: \n",
    "* Contributor:\n",
    "* Date: \n",
    "* Type: \n",
    "* Format: \n",
    "* Identifier: \n",
    "* Source: \n",
    "* Language:\n",
    "* Relation:\n",
    "* Coverage:  \n",
    "* Rights:"
   ]
  },
  {
   "cell_type": "markdown",
   "metadata": {},
   "source": [
    "A partir de las descripciones, podemos crear documentos XML que sean interpretables por máquinas (entendiendo máquinas como scripts, software, etc). \n",
    "\n",
    "El grito:\n",
    "  \n",
    "  ```XML\n",
    " <dc:contributor> </dc:contributor>\n",
    "  <dc:coverage> </dc:coverage>\n",
    "  <dc:creator> </dc:creator>\n",
    "  <dc:date> </dc:date>\n",
    "  <dc:description> </dc:description>\n",
    "  <dc:format>  </dc:format>\n",
    "  <dc:identifier> </dc:identifier>\n",
    "  <dc:language> </dc:language>\n",
    "  <dc:publisher> </dc:publisher>\n",
    "  <dc:relation> </dc:relation>\n",
    "  <dc:rights> </dc:rights>\n",
    "  <dc:source> </dc:source>\n",
    "  <dc:title> </dc:title>\n",
    "  <dc:type> </dc:type>\n",
    "```\n",
    "\n",
    "Dataset:\n",
    "  ```XML\n",
    " <dc:contributor> </dc:contributor>\n",
    "  <dc:coverage> </dc:coverage>\n",
    "  <dc:creator> </dc:creator>\n",
    "  <dc:date> </dc:date>\n",
    "  <dc:description> </dc:description>\n",
    "  <dc:format>  </dc:format>\n",
    "  <dc:identifier> </dc:identifier>\n",
    "  <dc:language> </dc:language>\n",
    "  <dc:publisher> </dc:publisher>\n",
    "  <dc:relation> </dc:relation>\n",
    "  <dc:rights> </dc:rights>\n",
    "  <dc:source> </dc:source>\n",
    "  <dc:title> </dc:title>\n",
    "  <dc:type> </dc:type>\n",
    "```"
   ]
  },
  {
   "cell_type": "markdown",
   "metadata": {},
   "source": [
    "Ahora vamos a ver cómo podemos manejar estos datos en Python. Para ello, utilizaremos la librería xml.\n",
    "\n",
    "PAra crear un documento XML bien formado, es necesario definir dónde está descrito el prefijo Dublin Core o \"dc:\". Para ello, añadimos antes de los datos la siguiente cabecera:\n",
    "\n",
    "```XML\n",
    "<?xml version=\"1.0\" encoding=\"UTF-8\" standalone=\"no\"?><?xml-stylesheet type=\"text/xsl\" href=\"/webservices/catalog/xsl/searchRetrieveResponse.xsl\"?>\n",
    "<searchRetrieveResponse xmlns:oclcterms=\"http://purl.org/oclc/terms/\" xmlns:dc=\"http://purl.org/dc/elements/1.1/\" xmlns:diag=\"http://www.loc.gov/zing/srw/diagnostic/\" xmlns:xsi=\"http://www.w3.org/2001/XMLSchema-instance\">\n",
    "```\n",
    "\n",
    "Sin olvidar añadir al final:\n",
    "\n",
    "```XML\n",
    "</searchRetrieveResponse>\n",
    "```"
   ]
  },
  {
   "cell_type": "code",
   "execution_count": 72,
   "metadata": {
    "collapsed": false
   },
   "outputs": [
    {
     "data": {
      "text/plain": [
       "<Element 'searchRetrieveResponse' at 0x7f19d4e19b88>"
      ]
     },
     "execution_count": 72,
     "metadata": {},
     "output_type": "execute_result"
    }
   ],
   "source": [
    "import xml.etree.ElementTree as ET\n",
    "dc_xml = '''<?xml version=\"1.0\" encoding=\"UTF-8\" standalone=\"no\"?><?xml-stylesheet type=\"text/xsl\" href=\"/webservices/catalog/xsl/searchRetrieveResponse.xsl\"?>\n",
    "<searchRetrieveResponse xmlns:oclcterms=\"http://purl.org/oclc/terms/\" xmlns:dc=\"http://purl.org/dc/elements/1.1/\" xmlns:diag=\"http://www.loc.gov/zing/srw/diagnostic/\" xmlns:xsi=\"http://www.w3.org/2001/XMLSchema-instance\">\n",
    "<dc:contributor>asdsadsad</dc:contributor>\n",
    "<dc:coverage>dfsd</dc:coverage>\n",
    "<dc:creator>sadsa</dc:creator>\n",
    "<dc:date>sadas</dc:date>\n",
    "<dc:description>sadsa</dc:description>\n",
    "<dc:format>sadasd</dc:format>\n",
    "<dc:identifier>sadsad</dc:identifier>\n",
    "<dc:language>asdasd</dc:language>\n",
    "<dc:publisher>wqewq</dc:publisher>\n",
    "<dc:relation >wqeqw</dc:relation>\n",
    "<dc:rights>ffefe</dc:rights>\n",
    "<dc:source>vfvf</dc:source>\n",
    "<dc:title>wqewqe</dc:title>\n",
    "<dc:type>ewfrb</dc:type>\n",
    "</searchRetrieveResponse>'''\n",
    "\n",
    "tree = ET.fromstring(dc_xml)\n",
    "tree"
   ]
  },
  {
   "cell_type": "markdown",
   "metadata": {},
   "source": [
    "Si queremos recorrer los elementos del XML que hemos formado, podemos utilizar un bucle, teniendo en cuenta que la información que nos interesa la tenemos en 'searchRetrieveResponse':"
   ]
  },
  {
   "cell_type": "code",
   "execution_count": 54,
   "metadata": {
    "collapsed": false
   },
   "outputs": [
    {
     "name": "stdout",
     "output_type": "stream",
     "text": [
      "{http://purl.org/dc/elements/1.1/}contributor asdsadsad\n",
      "{http://purl.org/dc/elements/1.1/}coverage dfsd\n",
      "{http://purl.org/dc/elements/1.1/}creator sadsa\n",
      "{http://purl.org/dc/elements/1.1/}date sadas\n",
      "{http://purl.org/dc/elements/1.1/}description sadsa\n",
      "{http://purl.org/dc/elements/1.1/}format sadasd\n",
      "{http://purl.org/dc/elements/1.1/}identifier sadsad\n",
      "{http://purl.org/dc/elements/1.1/}language asdasd\n",
      "{http://purl.org/dc/elements/1.1/}publisher wqewq\n",
      "{http://purl.org/dc/elements/1.1/}relation wqeqw\n",
      "{http://purl.org/dc/elements/1.1/}rights ffefe\n",
      "{http://purl.org/dc/elements/1.1/}source vfvf\n",
      "{http://purl.org/dc/elements/1.1/}title wqewqe\n",
      "{http://purl.org/dc/elements/1.1/}type ewfrb\n"
     ]
    }
   ],
   "source": [
    "for table in tree.getiterator('searchRetrieveResponse'):\n",
    "    for child in table:\n",
    "        print(child.tag, child.text)"
   ]
  },
  {
   "cell_type": "markdown",
   "metadata": {},
   "source": [
    "Observa que, al utilizar el prefijo 'dc:' e indicarle que está descrito en la URL 'http://purl.org/dc/elements/1.1/', la eqtiqueta o \"tag\" aparece como, por ejemplo {URL}contributor.\n",
    "\n",
    "Prueba a mostrar los metadatos que has creado a partir del cuadro y del dataset:"
   ]
  },
  {
   "cell_type": "code",
   "execution_count": null,
   "metadata": {
    "collapsed": true
   },
   "outputs": [],
   "source": []
  },
  {
   "cell_type": "markdown",
   "metadata": {},
   "source": [
    "Utilizando findall() sobre el albor (tree), podemos encontrar todos los elementos con una etiqueta determinada."
   ]
  },
  {
   "cell_type": "code",
   "execution_count": 59,
   "metadata": {
    "collapsed": false
   },
   "outputs": [
    {
     "name": "stdout",
     "output_type": "stream",
     "text": [
      "[<Element '{http://purl.org/dc/elements/1.1/}relation' at 0x7f19d4e0ea98>]\n"
     ]
    }
   ],
   "source": [
    "relation = tree.findall('{http://purl.org/dc/elements/1.1/}relation')\n",
    "print(relation)"
   ]
  },
  {
   "cell_type": "markdown",
   "metadata": {},
   "source": [
    "Ten en cuenta que lo que encontramos es, en realidad, una parte del XML, por lo que hay que iterarlo como antes:"
   ]
  },
  {
   "cell_type": "code",
   "execution_count": 64,
   "metadata": {
    "collapsed": false
   },
   "outputs": [
    {
     "name": "stdout",
     "output_type": "stream",
     "text": [
      "{http://purl.org/dc/elements/1.1/}relation wqeqw\n"
     ]
    }
   ],
   "source": [
    "for child in relation:\n",
    "    print(child.tag, child.text)"
   ]
  },
  {
   "cell_type": "markdown",
   "metadata": {},
   "source": [
    "Los documentos XML, aparte de las etiquetas y los valores, pueden contener atributos. Dado el siguiente ejemplo, vamos a ver cómo obtener la lista y los valores de los atributos"
   ]
  },
  {
   "cell_type": "code",
   "execution_count": 78,
   "metadata": {
    "collapsed": true
   },
   "outputs": [],
   "source": [
    "dc_xml = '''<?xml version=\"1.0\" encoding=\"UTF-8\" standalone=\"no\"?><?xml-stylesheet type=\"text/xsl\" href=\"/webservices/catalog/xsl/searchRetrieveResponse.xsl\"?>\n",
    "<searchRetrieveResponse xmlns:oclcterms=\"http://purl.org/oclc/terms/\" xmlns:dc=\"http://purl.org/dc/elements/1.1/\" xmlns:diag=\"http://www.loc.gov/zing/srw/diagnostic/\" xmlns:xsi=\"http://www.w3.org/2001/XMLSchema-instance\">\n",
    "<dc:contributor>asdsadsad</dc:contributor>\n",
    "<dc:coverage>dfsd</dc:coverage>\n",
    "<dc:creator>sadsa</dc:creator>\n",
    "<dc:date>sadas</dc:date>\n",
    "<dc:description atributo1=\"valor1\" atributo2=\"valor2\">sadsa</dc:description>\n",
    "<dc:format>sadasd</dc:format>\n",
    "<dc:identifier>sadsad</dc:identifier>\n",
    "<dc:language>asdasd</dc:language>\n",
    "<dc:publisher>wqewq</dc:publisher>\n",
    "<dc:relation >wqeqw</dc:relation>\n",
    "<dc:rights>ffefe</dc:rights>\n",
    "<dc:source>vfvf</dc:source>\n",
    "<dc:title>wqewqe</dc:title>\n",
    "<dc:type>ewfrb</dc:type>\n",
    "</searchRetrieveResponse>'''\n",
    "\n",
    "tree2 = ET.fromstring(dc_xml)"
   ]
  },
  {
   "cell_type": "code",
   "execution_count": 79,
   "metadata": {
    "collapsed": false
   },
   "outputs": [
    {
     "data": {
      "text/plain": [
       "{'atributo1': 'valor1', 'atributo2': 'valor2'}"
      ]
     },
     "execution_count": 79,
     "metadata": {},
     "output_type": "execute_result"
    }
   ],
   "source": [
    "tree2.find('{http://purl.org/dc/elements/1.1/}description').attrib"
   ]
  },
  {
   "cell_type": "code",
   "execution_count": 80,
   "metadata": {
    "collapsed": false
   },
   "outputs": [
    {
     "name": "stdout",
     "output_type": "stream",
     "text": [
      "valor1\n",
      "valor2\n"
     ]
    }
   ],
   "source": [
    "print(tree2.find('{http://purl.org/dc/elements/1.1/}description').attrib['atributo1'])\n",
    "print(tree2.find('{http://purl.org/dc/elements/1.1/}description').attrib['atributo2'])\n"
   ]
  },
  {
   "cell_type": "markdown",
   "metadata": {},
   "source": [
    "Vamos a analizar un documento XML más complejo, empezando por descargarlo:"
   ]
  },
  {
   "cell_type": "code",
   "execution_count": 83,
   "metadata": {
    "collapsed": false
   },
   "outputs": [],
   "source": [
    "import requests\n",
    "\n",
    "response = requests.get('https://gist.githubusercontent.com/vivien/580729/raw/651d1b216357c0d7d9fc47075071fb482e11fb36/dublincore-example.xml')\n",
    "if response.status_code == 200:\n",
    "    with open(\"./dublincore-example.xml\", 'wb') as f:\n",
    "        f.write(response.content)"
   ]
  },
  {
   "cell_type": "markdown",
   "metadata": {},
   "source": [
    "Y lo cargamos en python:"
   ]
  },
  {
   "cell_type": "code",
   "execution_count": 87,
   "metadata": {
    "collapsed": false
   },
   "outputs": [
    {
     "name": "stdout",
     "output_type": "stream",
     "text": [
      "{http://www.loc.gov/zing/srw/}version 1.1\n",
      "{http://www.loc.gov/zing/srw/}numberOfRecords 33587\n",
      "{http://www.loc.gov/zing/srw/}records \n",
      "\n",
      "{http://www.loc.gov/zing/srw/}nextRecordPosition 11\n",
      "{http://www.loc.gov/zing/srw/}resultSetIdleTime None\n",
      "{http://www.loc.gov/zing/srw/}echoedSearchRetrieveRequest \n",
      "\n"
     ]
    }
   ],
   "source": [
    "tree = ET.parse('dublincore-example.xml')\n",
    "for table in tree.getiterator('{http://www.loc.gov/zing/srw/}searchRetrieveResponse'):\n",
    "    for child in table:\n",
    "        print(child.tag, child.text)"
   ]
  },
  {
   "cell_type": "code",
   "execution_count": 102,
   "metadata": {
    "collapsed": false
   },
   "outputs": [
    {
     "name": "stdout",
     "output_type": "stream",
     "text": [
      "[<Element '{http://www.loc.gov/zing/srw/}records' at 0x7f19d41aeb88>]\n"
     ]
    }
   ],
   "source": [
    "all_records = tree.findall('{http://www.loc.gov/zing/srw/}records')\n",
    "print(all_records)"
   ]
  },
  {
   "cell_type": "code",
   "execution_count": 103,
   "metadata": {
    "collapsed": false
   },
   "outputs": [
    {
     "name": "stdout",
     "output_type": "stream",
     "text": [
      "{http://www.loc.gov/zing/srw/}recordSchema info:srw/schema/1/dc\n",
      "{http://www.loc.gov/zing/srw/}recordPacking xml\n",
      "{http://www.loc.gov/zing/srw/}recordData \n",
      "\n",
      "{http://www.loc.gov/zing/srw/}recordSchema info:srw/schema/1/dc\n",
      "{http://www.loc.gov/zing/srw/}recordPacking xml\n",
      "{http://www.loc.gov/zing/srw/}recordData \n",
      "\n",
      "{http://www.loc.gov/zing/srw/}recordSchema info:srw/schema/1/dc\n",
      "{http://www.loc.gov/zing/srw/}recordPacking xml\n",
      "{http://www.loc.gov/zing/srw/}recordData \n",
      "\n",
      "{http://www.loc.gov/zing/srw/}recordSchema info:srw/schema/1/dc\n",
      "{http://www.loc.gov/zing/srw/}recordPacking xml\n",
      "{http://www.loc.gov/zing/srw/}recordData \n",
      "\n",
      "{http://www.loc.gov/zing/srw/}recordSchema info:srw/schema/1/dc\n",
      "{http://www.loc.gov/zing/srw/}recordPacking xml\n",
      "{http://www.loc.gov/zing/srw/}recordData \n",
      "\n",
      "{http://www.loc.gov/zing/srw/}recordSchema info:srw/schema/1/dc\n",
      "{http://www.loc.gov/zing/srw/}recordPacking xml\n",
      "{http://www.loc.gov/zing/srw/}recordData \n",
      "\n",
      "{http://www.loc.gov/zing/srw/}recordSchema info:srw/schema/1/dc\n",
      "{http://www.loc.gov/zing/srw/}recordPacking xml\n",
      "{http://www.loc.gov/zing/srw/}recordData \n",
      "\n",
      "{http://www.loc.gov/zing/srw/}recordSchema info:srw/schema/1/dc\n",
      "{http://www.loc.gov/zing/srw/}recordPacking xml\n",
      "{http://www.loc.gov/zing/srw/}recordData \n",
      "\n",
      "{http://www.loc.gov/zing/srw/}recordSchema info:srw/schema/1/dc\n",
      "{http://www.loc.gov/zing/srw/}recordPacking xml\n",
      "{http://www.loc.gov/zing/srw/}recordData \n",
      "\n",
      "{http://www.loc.gov/zing/srw/}recordSchema info:srw/schema/1/dc\n",
      "{http://www.loc.gov/zing/srw/}recordPacking xml\n",
      "{http://www.loc.gov/zing/srw/}recordData \n",
      "\n"
     ]
    }
   ],
   "source": [
    "for table in tree.getiterator('{http://www.loc.gov/zing/srw/}record'):\n",
    "    for child in table:\n",
    "        print(child.tag, child.text)"
   ]
  },
  {
   "cell_type": "markdown",
   "metadata": {},
   "source": [
    "Como ves, hay que ir entendiendo la jerarquía del XML para poder obtener la información. \n",
    "\n",
    "¿Puedes obtener los títulos de los recursos descritos en el XML?"
   ]
  },
  {
   "cell_type": "code",
   "execution_count": null,
   "metadata": {
    "collapsed": true
   },
   "outputs": [],
   "source": []
  }
 ],
 "metadata": {
  "kernelspec": {
   "display_name": "Python 3",
   "language": "python",
   "name": "python3"
  },
  "language_info": {
   "codemirror_mode": {
    "name": "ipython",
    "version": 3
   },
   "file_extension": ".py",
   "mimetype": "text/x-python",
   "name": "python",
   "nbconvert_exporter": "python",
   "pygments_lexer": "ipython3",
   "version": "3.5.2"
  }
 },
 "nbformat": 4,
 "nbformat_minor": 1
}
